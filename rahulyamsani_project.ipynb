{
  "nbformat": 4,
  "nbformat_minor": 0,
  "metadata": {
    "colab": {
      "provenance": []
    },
    "kernelspec": {
      "name": "python3",
      "display_name": "Python 3"
    },
    "language_info": {
      "name": "python"
    }
  },
  "cells": [
    {
      "cell_type": "code",
      "source": [
        "# download link CIFAR10 Datset (\"https://www.cs.toronto.edu/~kriz/cifar-10-python.tar.gz\")\n",
        "# URL Link CIFAR10 Dataset (\"https://www.cs.toronto.edu/~kriz/cifar.html\")"
      ],
      "metadata": {
        "id": "NbcfXOXp9jgO"
      },
      "execution_count": 51,
      "outputs": []
    },
    {
      "cell_type": "code",
      "execution_count": 1,
      "metadata": {
        "id": "XrJmHLI1jJ_3"
      },
      "outputs": [],
      "source": [
        "#importing librararies\n",
        "import tensorflow as tf\n",
        "from tensorflow.keras import datasets, layers, models\n",
        "import matplotlib.pyplot as plt\n",
        "import numpy as np\n",
        "from sklearn.model_selection import train_test_split\n"
      ]
    },
    {
      "cell_type": "code",
      "source": [
        "# Load the dataset\n",
        "(X_train, y_train), (X_test, y_test) = datasets.cifar10.load_data()\n"
      ],
      "metadata": {
        "colab": {
          "base_uri": "https://localhost:8080/",
          "height": 0
        },
        "id": "ZIyVJXQfkKKL",
        "outputId": "fa5828d3-5ec4-447e-e6ca-12b79fab6b53"
      },
      "execution_count": 2,
      "outputs": [
        {
          "output_type": "stream",
          "name": "stdout",
          "text": [
            "Downloading data from https://www.cs.toronto.edu/~kriz/cifar-10-python.tar.gz\n",
            "170498071/170498071 [==============================] - 6s 0us/step\n"
          ]
        }
      ]
    },
    {
      "cell_type": "code",
      "source": [
        "# Flatten the labels to 1D arrays\n",
        "y_train = y_train.flatten()\n",
        "y_test = y_test.flatten()"
      ],
      "metadata": {
        "id": "aRfc_TpskOBm"
      },
      "execution_count": 3,
      "outputs": []
    },
    {
      "cell_type": "code",
      "source": [
        "# Splitting data into 80% to test and 20% to train\n",
        "X_train, X_test, y_train, y_test = train_test_split(X_train, y_train, test_size=0.2, random_state=42)"
      ],
      "metadata": {
        "id": "DnFzx1YSkRLb"
      },
      "execution_count": 4,
      "outputs": []
    },
    {
      "cell_type": "code",
      "source": [
        "# Checking the shapes of the arrays\n",
        "print(\"X_train shape:\", X_train.shape)\n",
        "print(\"y_train shape:\", y_train.shape)\n",
        "print(\"X_test shape:\", X_test.shape)\n",
        "print(\"y_test shape:\", y_test.shape)"
      ],
      "metadata": {
        "colab": {
          "base_uri": "https://localhost:8080/",
          "height": 0
        },
        "id": "49f1zD4ekaJ_",
        "outputId": "242db48c-0b83-486e-d4d1-4fa3262e3dbd"
      },
      "execution_count": 5,
      "outputs": [
        {
          "output_type": "stream",
          "name": "stdout",
          "text": [
            "X_train shape: (40000, 32, 32, 3)\n",
            "y_train shape: (40000,)\n",
            "X_test shape: (10000, 32, 32, 3)\n",
            "y_test shape: (10000,)\n"
          ]
        }
      ]
    },
    {
      "cell_type": "code",
      "source": [
        "y_train[:5]\n"
      ],
      "metadata": {
        "colab": {
          "base_uri": "https://localhost:8080/",
          "height": 0
        },
        "id": "Zk2rsGIpkv0V",
        "outputId": "c7fbc521-3807-42d1-ff60-2cb24471bc03"
      },
      "execution_count": 7,
      "outputs": [
        {
          "output_type": "execute_result",
          "data": {
            "text/plain": [
              "array([6, 2, 5, 6, 3], dtype=uint8)"
            ]
          },
          "metadata": {},
          "execution_count": 7
        }
      ]
    },
    {
      "cell_type": "code",
      "source": [
        "y_test = y_test.reshape(-1,)"
      ],
      "metadata": {
        "id": "4LFxz1Jyk680"
      },
      "execution_count": 8,
      "outputs": []
    },
    {
      "cell_type": "code",
      "source": [
        "classes = [\"airplane\",\"automobile\",\"bird\",\"cat\",\"deer\",\"dog\",\"frog\",\"horse\",\"ship\",\"truck\"]"
      ],
      "metadata": {
        "id": "FcYLIVcVk-FW"
      },
      "execution_count": 27,
      "outputs": []
    },
    {
      "cell_type": "code",
      "source": [
        "def plot_samples(X, y, num_samples=10):\n",
        "    plt.figure(figsize=(50, 50))\n",
        "    for i in range(num_samples):\n",
        "        plt.subplot(1, num_samples, i + 1)\n",
        "        plt.imshow(X[i])\n",
        "        plt.xlabel(classes[y[i]])\n",
        "        plt.xticks([])  # Remove x-axis ticks\n",
        "        plt.yticks([])  # Remove y-axis ticks\n",
        "    plt.show()\n",
        "\n",
        "# class_label = {0: 'airplane', 1: 'automobile', 2: 'bird', 3: 'cat', 4: 'deer', 5: 'dog', 6: 'frog', 7: 'horse', 8: 'ship', 9: 'truck'}\n",
        "\n",
        "# Plot the first ten samples from the training set.\n",
        "\n",
        "plot_samples(X_train, y_train, num_samples=10)\n"
      ],
      "metadata": {
        "colab": {
          "base_uri": "https://localhost:8080/",
          "height": 141
        },
        "id": "Sx3D_lNhlFvs",
        "outputId": "bc09ae49-ee51-44da-c745-b7d4e7189108"
      },
      "execution_count": 28,
      "outputs": [
        {
          "output_type": "display_data",
          "data": {
            "text/plain": [
              "<Figure size 5000x5000 with 10 Axes>"
            ],
            "image/png": "[encoded data removed]"
          },
          "metadata": {}
        }
      ]
    },
    {
      "cell_type": "code",
      "source": [
        "# Normalisation of training data\n",
        "X_train = X_train / 255.0\n",
        "X_test = X_test / 255.0\n"
      ],
      "metadata": {
        "id": "UizSJMIjmfG0"
      },
      "execution_count": 17,
      "outputs": []
    },
    {
      "cell_type": "code",
      "source": [
        "# Basic artificial neural network for picture classification.\n",
        "ann = models.Sequential([\n",
        "        layers.Flatten(input_shape=(32,32,3)),\n",
        "        layers.Dense(3000, activation='relu'),\n",
        "        layers.Dense(1000, activation='relu'),\n",
        "        layers.Dense(10, activation='softmax')\n",
        "    ])\n",
        "\n",
        "ann.compile(optimizer='SGD',\n",
        "              loss='sparse_categorical_crossentropy',\n",
        "              metrics=['accuracy'])\n",
        "\n",
        "ann.fit(X_train, y_train, epochs=5)"
      ],
      "metadata": {
        "colab": {
          "base_uri": "https://localhost:8080/",
          "height": 0
        },
        "id": "cin8j0pDmpfu",
        "outputId": "7be00dce-f3bc-49aa-a487-ff6f56193d48"
      },
      "execution_count": 18,
      "outputs": [
        {
          "output_type": "stream",
          "name": "stdout",
          "text": [
            "Epoch 1/5\n",
            "1250/1250 [==============================] - 117s 93ms/step - loss: 1.8398 - accuracy: 0.3427\n",
            "Epoch 2/5\n",
            "1250/1250 [==============================] - 110s 88ms/step - loss: 1.6553 - accuracy: 0.4173\n",
            "Epoch 3/5\n",
            "1250/1250 [==============================] - 109s 87ms/step - loss: 1.5716 - accuracy: 0.4453\n",
            "Epoch 4/5\n",
            "1250/1250 [==============================] - 106s 85ms/step - loss: 1.5083 - accuracy: 0.4697\n",
            "Epoch 5/5\n",
            "1250/1250 [==============================] - 111s 88ms/step - loss: 1.4608 - accuracy: 0.4863\n"
          ]
        },
        {
          "output_type": "execute_result",
          "data": {
            "text/plain": [
              "<keras.src.callbacks.History at 0x7961d8074fa0>"
            ]
          },
          "metadata": {},
          "execution_count": 18
        }
      ]
    },
    {
      "cell_type": "code",
      "source": [
        "#Building CNN Network\n",
        "cnn = models.Sequential([\n",
        "    layers.Conv2D(filters=32, kernel_size=(3, 3), activation='relu', input_shape=(32, 32, 3)),\n",
        "    layers.MaxPooling2D((2, 2)),\n",
        "\n",
        "    layers.Conv2D(filters=64, kernel_size=(3, 3), activation='relu'),\n",
        "    layers.MaxPooling2D((2, 2)),\n",
        "\n",
        "    layers.Flatten(),\n",
        "    layers.Dense(64, activation='relu'),\n",
        "    layers.Dense(10, activation='softmax')\n",
        "])"
      ],
      "metadata": {
        "id": "f-M-VVq_o8xU"
      },
      "execution_count": 19,
      "outputs": []
    },
    {
      "cell_type": "code",
      "source": [
        "cnn.compile(optimizer='adam',\n",
        "              loss='sparse_categorical_crossentropy',\n",
        "              metrics=['accuracy'])"
      ],
      "metadata": {
        "id": "I1UJBVk7pMrn"
      },
      "execution_count": 20,
      "outputs": []
    },
    {
      "cell_type": "code",
      "source": [
        "cnn.fit(X_train, y_train, epochs=10)"
      ],
      "metadata": {
        "colab": {
          "base_uri": "https://localhost:8080/",
          "height": 0
        },
        "id": "oJBBKobnpSZr",
        "outputId": "008505b4-6969-4229-b539-481913b034eb"
      },
      "execution_count": 21,
      "outputs": [
        {
          "output_type": "stream",
          "name": "stdout",
          "text": [
            "Epoch 1/10\n",
            "1250/1250 [==============================] - 49s 38ms/step - loss: 1.5167 - accuracy: 0.4552\n",
            "Epoch 2/10\n",
            "1250/1250 [==============================] - 48s 38ms/step - loss: 1.1531 - accuracy: 0.5964\n",
            "Epoch 3/10\n",
            "1250/1250 [==============================] - 48s 39ms/step - loss: 1.0138 - accuracy: 0.6477\n",
            "Epoch 4/10\n",
            "1250/1250 [==============================] - 46s 37ms/step - loss: 0.9281 - accuracy: 0.6738\n",
            "Epoch 5/10\n",
            "1250/1250 [==============================] - 48s 38ms/step - loss: 0.8555 - accuracy: 0.7012\n",
            "Epoch 6/10\n",
            "1250/1250 [==============================] - 49s 39ms/step - loss: 0.7994 - accuracy: 0.7223\n",
            "Epoch 7/10\n",
            "1250/1250 [==============================] - 46s 37ms/step - loss: 0.7503 - accuracy: 0.7379\n",
            "Epoch 8/10\n",
            "1250/1250 [==============================] - 46s 37ms/step - loss: 0.6958 - accuracy: 0.7560\n",
            "Epoch 9/10\n",
            "1250/1250 [==============================] - 47s 37ms/step - loss: 0.6522 - accuracy: 0.7717\n",
            "Epoch 10/10\n",
            "1250/1250 [==============================] - 46s 37ms/step - loss: 0.6086 - accuracy: 0.7882\n"
          ]
        },
        {
          "output_type": "execute_result",
          "data": {
            "text/plain": [
              "<keras.src.callbacks.History at 0x7961d2e56da0>"
            ]
          },
          "metadata": {},
          "execution_count": 21
        }
      ]
    },
    {
      "cell_type": "code",
      "source": [
        "#At the end of 5 epochs, CNN's accuracy was over 70%, which is a huge improvement\n",
        "# above ANN. CNNs are the most accurate image categorization algorithms.\n",
        "# Also, as compared to simple ANN, computation is substantially lower because maxpooling reduces image size while keeping features."
      ],
      "metadata": {
        "id": "-qRyOr6areef"
      },
      "execution_count": null,
      "outputs": []
    },
    {
      "cell_type": "code",
      "source": [
        "cnn.evaluate(X_test,y_test)\n"
      ],
      "metadata": {
        "colab": {
          "base_uri": "https://localhost:8080/",
          "height": 0
        },
        "id": "UNOxO0cqrnY6",
        "outputId": "0b2b0e5c-ea9e-48d6-9aa7-6f5b5cdfc973"
      },
      "execution_count": 22,
      "outputs": [
        {
          "output_type": "stream",
          "name": "stdout",
          "text": [
            "313/313 [==============================] - 5s 15ms/step - loss: 0.9301 - accuracy: 0.6938\n"
          ]
        },
        {
          "output_type": "execute_result",
          "data": {
            "text/plain": [
              "[0.9301208853721619, 0.6937999725341797]"
            ]
          },
          "metadata": {},
          "execution_count": 22
        }
      ]
    },
    {
      "cell_type": "code",
      "source": [
        "y_pred = cnn.predict(X_test)\n",
        "y_pred[:10]\n"
      ],
      "metadata": {
        "colab": {
          "base_uri": "https://localhost:8080/",
          "height": 0
        },
        "id": "UTfuZXXrrssy",
        "outputId": "8b7d6d1f-8fd5-4d72-fa67-9325b0c1d96d"
      },
      "execution_count": 23,
      "outputs": [
        {
          "output_type": "stream",
          "name": "stdout",
          "text": [
            "313/313 [==============================] - 4s 12ms/step\n"
          ]
        },
        {
          "output_type": "execute_result",
          "data": {
            "text/plain": [
              "array([[1.84669010e-02, 5.01305051e-03, 3.07395845e-03, 5.63259304e-01,\n",
              "        3.50009948e-01, 3.35811600e-02, 6.08282244e-06, 1.33516965e-02,\n",
              "        1.11181373e-02, 2.11966340e-03],\n",
              "       [2.58474669e-04, 1.29770615e-05, 4.81827419e-06, 3.44117252e-05,\n",
              "        8.98960764e-08, 4.71259227e-06, 6.54337327e-06, 6.58370595e-07,\n",
              "        9.99553502e-01, 1.23775157e-04],\n",
              "       [7.84545720e-01, 2.84465466e-04, 1.09246718e-02, 1.26568601e-03,\n",
              "        3.33501701e-03, 8.02197959e-04, 4.63119941e-05, 6.21921863e-05,\n",
              "        1.97741479e-01, 9.92245856e-04],\n",
              "       [1.30004491e-05, 1.53899703e-06, 1.14089221e-01, 1.54203987e-02,\n",
              "        2.00752884e-01, 6.10895036e-03, 6.62223876e-01, 1.96926908e-06,\n",
              "        1.38808670e-03, 4.40802994e-09],\n",
              "       [7.17432937e-04, 9.13169086e-02, 1.36310570e-02, 2.38785952e-01,\n",
              "        1.56414062e-02, 4.33034450e-02, 5.76575637e-01, 1.56826223e-04,\n",
              "        1.88514369e-03, 1.79862026e-02],\n",
              "       [7.11988017e-04, 4.28795721e-03, 9.98944626e-04, 6.34815311e-03,\n",
              "        7.77559064e-04, 1.68473981e-02, 9.65666711e-01, 4.18693293e-03,\n",
              "        4.85030068e-06, 1.69388310e-04],\n",
              "       [3.60386893e-02, 4.03466560e-02, 2.56300811e-02, 1.12821847e-01,\n",
              "        9.89329256e-03, 2.18367646e-03, 1.51670456e-03, 2.03848336e-04,\n",
              "        7.15165019e-01, 5.62001914e-02],\n",
              "       [9.47976768e-01, 6.92234607e-04, 9.63967294e-04, 4.91447972e-05,\n",
              "        1.10865010e-04, 3.28148562e-05, 2.13011859e-07, 7.97567540e-04,\n",
              "        4.46287133e-02, 4.74776188e-03],\n",
              "       [8.81878426e-04, 4.99865040e-04, 2.80285943e-02, 2.15857439e-02,\n",
              "        4.39052582e-02, 2.05296371e-03, 9.02781367e-01, 4.40030381e-05,\n",
              "        1.87531288e-04, 3.27822163e-05],\n",
              "       [1.08972732e-02, 1.79123238e-03, 3.24433204e-03, 1.81085765e-01,\n",
              "        2.13995972e-03, 1.36638418e-01, 6.61535144e-01, 7.04635750e-05,\n",
              "        1.42520585e-03, 1.17220089e-03]], dtype=float32)"
            ]
          },
          "metadata": {},
          "execution_count": 23
        }
      ]
    },
    {
      "cell_type": "code",
      "source": [
        "y_classes = [np.argmax(element) for element in y_pred]\n",
        "y_classes[:10]\n"
      ],
      "metadata": {
        "colab": {
          "base_uri": "https://localhost:8080/",
          "height": 0
        },
        "id": "7KFC_VjDrwpE",
        "outputId": "da148aad-408c-41b2-a4de-1b9e565b748d"
      },
      "execution_count": 24,
      "outputs": [
        {
          "output_type": "execute_result",
          "data": {
            "text/plain": [
              "[3, 8, 0, 6, 6, 6, 8, 0, 6, 6]"
            ]
          },
          "metadata": {},
          "execution_count": 24
        }
      ]
    },
    {
      "cell_type": "code",
      "source": [
        "y_test[:10]"
      ],
      "metadata": {
        "colab": {
          "base_uri": "https://localhost:8080/",
          "height": 0
        },
        "id": "2MCSbu-9r0Dy",
        "outputId": "696d0ca3-0c17-4320-dbca-e58771607602"
      },
      "execution_count": 25,
      "outputs": [
        {
          "output_type": "execute_result",
          "data": {
            "text/plain": [
              "array([7, 8, 0, 6, 1, 6, 8, 0, 6, 5], dtype=uint8)"
            ]
          },
          "metadata": {},
          "execution_count": 25
        }
      ]
    },
    {
      "cell_type": "code",
      "source": [
        "plot_sample(X_test, y_test,3)\n"
      ],
      "metadata": {
        "colab": {
          "base_uri": "https://localhost:8080/",
          "height": 237
        },
        "id": "XW365I9Hr3VK",
        "outputId": "66fe6b6b-e30c-41d2-fb1f-a7defa682a25"
      },
      "execution_count": 29,
      "outputs": [
        {
          "output_type": "display_data",
          "data": {
            "text/plain": [
              "<Figure size 1500x200 with 1 Axes>"
            ],
            "image/png": "[encoded data removed]"
          },
          "metadata": {}
        }
      ]
    },
    {
      "cell_type": "code",
      "source": [
        "classes[y_classes[3]]"
      ],
      "metadata": {
        "colab": {
          "base_uri": "https://localhost:8080/",
          "height": 35
        },
        "id": "R00GR9xhskFD",
        "outputId": "652a93d4-b3cb-46ac-ffea-6d412907ca61"
      },
      "execution_count": 31,
      "outputs": [
        {
          "output_type": "execute_result",
          "data": {
            "text/plain": [
              "'frog'"
            ],
            "application/vnd.google.colaboratory.intrinsic+json": {
              "type": "string"
            }
          },
          "metadata": {},
          "execution_count": 31
        }
      ]
    },
    {
      "cell_type": "code",
      "source": [
        "classes[y_classes[3]]"
      ],
      "metadata": {
        "colab": {
          "base_uri": "https://localhost:8080/",
          "height": 35
        },
        "id": "rJI1WsSgsySx",
        "outputId": "9e816886-c69f-4377-9761-1596cd6945a6"
      },
      "execution_count": 32,
      "outputs": [
        {
          "output_type": "execute_result",
          "data": {
            "text/plain": [
              "'frog'"
            ],
            "application/vnd.google.colaboratory.intrinsic+json": {
              "type": "string"
            }
          },
          "metadata": {},
          "execution_count": 32
        }
      ]
    },
    {
      "cell_type": "code",
      "source": [
        "#Prediction\n",
        "idx2 = random.randint(0, len(y_test))\n",
        "plt.imshow(X_test[idx2, :])\n",
        "y_pred = cnn.predict(X_test[idx2, :].reshape(1, 32, 32, 3))\n"
      ],
      "metadata": {
        "colab": {
          "base_uri": "https://localhost:8080/",
          "height": 448
        },
        "id": "zm__RtZzuOOA",
        "outputId": "593aa3d4-d60c-4d91-94e8-490e24077631"
      },
      "execution_count": 50,
      "outputs": [
        {
          "output_type": "stream",
          "name": "stdout",
          "text": [
            "1/1 [==============================] - 0s 21ms/step\n"
          ]
        },
        {
          "output_type": "display_data",
          "data": {
            "text/plain": [
              "<Figure size 640x480 with 1 Axes>"
            ],
            "image/png": "[encoded data removed]"
          },
          "metadata": {}
        }
      ]
    },
    {
      "cell_type": "code",
      "source": [],
      "metadata": {
        "id": "XbluzDYwuOVV"
      },
      "execution_count": null,
      "outputs": []
    }
  ]
}